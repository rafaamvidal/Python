{
 "cells": [
  {
   "cell_type": "markdown",
   "id": "55b289fe-2055-4ec0-b3b3-bb666d19515f",
   "metadata": {},
   "source": [
    "# Projeto: Calculadora de IMC (Índice de Massa Corporal)"
   ]
  },
  {
   "cell_type": "markdown",
   "id": "5f1cdf1f-85b5-4156-916a-28d0f6a81e76",
   "metadata": {},
   "source": [
    "## O Índice de Massa Corporal (IMC) é uma medida comum usada para avaliar se uma pessoa está em um peso saudável para sua altura"
   ]
  },
  {
   "cell_type": "code",
   "execution_count": null,
   "id": "b456f393-1c52-460e-93d5-8c9a292ad500",
   "metadata": {},
   "outputs": [],
   "source": []
  },
  {
   "cell_type": "code",
   "execution_count": 39,
   "id": "01322600-1f54-4a03-9e54-bd0528699b6e",
   "metadata": {},
   "outputs": [
    {
     "name": "stdout",
     "output_type": "stream",
     "text": [
      "Calculadora de IMC\n"
     ]
    },
    {
     "name": "stdin",
     "output_type": "stream",
     "text": [
      "Por favor, insira seu peso em quilogramas:  94\n",
      "Agora, insira sua altura em metros:  1.74\n"
     ]
    },
    {
     "name": "stdout",
     "output_type": "stream",
     "text": [
      "\n",
      "Seu IMC é: 31.05\n",
      "Você está Obeso.\n"
     ]
    }
   ],
   "source": [
    "from tkinter import *\n",
    "\n",
    "def calcular_imc(peso, altura):\n",
    "    # Calcula o IMC\n",
    "    imc = peso / altura ** 2\n",
    "    return imc\n",
    "\n",
    "def interpretar_imc(imc):\n",
    "    # Interpreta o IMC e retorna a mensagem correspondente\n",
    "    if imc < 18.5:\n",
    "        return \"Abaixo do peso\"\n",
    "    elif 18.5 <= imc < 25.0:\n",
    "        return \"Peso normal\"\n",
    "    elif 25.0 <= imc < 30.0:\n",
    "        return \"Sobrepeso\"\n",
    "    else:\n",
    "        return \"Obeso\"\n",
    "\n",
    "def main():\n",
    "    print(\"Calculadora de IMC\")\n",
    "    # Solicita entrada do usuário e valida os valores inseridos\n",
    "    while True:\n",
    "        try:\n",
    "            peso = float(input(\"Por favor, insira seu peso em quilogramas: \"))\n",
    "            altura = float(input(\"Agora, insira sua altura em metros: \"))\n",
    "            # Verifica se peso e altura são valores positivos\n",
    "            if peso <= 0 or altura <= 0:\n",
    "                print(\"Por favor, insira valores positivos para peso e altura.\")\n",
    "                continue  # Reinicia o loop para solicitar entrada novamente\n",
    "            break  # Sai do loop se a entrada for válida\n",
    "        except ValueError:\n",
    "            print(\"Por favor, insira valores numéricos válidos.\")\n",
    "\n",
    "    # Calcula o IMC\n",
    "    imc = calcular_imc(peso, altura)\n",
    "    \n",
    "    # Interpreta o IMC e imprime a mensagem correspondente\n",
    "    status_imc = interpretar_imc(imc)\n",
    "    print(\"\\nSeu IMC é: {:.2f}\".format(imc))\n",
    "    print(\"Você está\", status_imc + \".\")\n",
    "\n",
    "if __name__ == \"__main__\":\n",
    "    main()\n"
   ]
  },
  {
   "cell_type": "code",
   "execution_count": 38,
   "id": "ebf97dbf-7d8b-4aaa-ba0a-42b066475b48",
   "metadata": {},
   "outputs": [],
   "source": []
  },
  {
   "cell_type": "markdown",
   "id": "94a6b01a-4d0e-4260-b03c-842bab02bdd9",
   "metadata": {},
   "source": [
    "## Criando interface"
   ]
  },
  {
   "cell_type": "code",
   "execution_count": 46,
   "id": "0b02be67-def7-440b-bfa3-550cbd13b193",
   "metadata": {},
   "outputs": [],
   "source": [
    "import tkinter as tk\n",
    "from tkinter import messagebox\n",
    "\n",
    "def calcular_imc():\n",
    "    try:\n",
    "        peso = float(entry_peso.get())\n",
    "        altura = float(entry_altura.get())\n",
    "        \n",
    "        if peso <= 0 or altura <= 0:\n",
    "            messagebox.showerror(\"Erro\", \"Por favor, insira valores positivos para peso e altura.\")\n",
    "            return\n",
    "        \n",
    "        imc = peso / altura ** 2\n",
    "        \n",
    "        if imc < 18.5:\n",
    "            status_imc = \"Abaixo do peso\"\n",
    "        elif 18.5 <= imc < 25.0:\n",
    "            status_imc = \"Peso normal\"\n",
    "        elif 25.0 <= imc < 30.0:\n",
    "            status_imc = \"Sobrepeso\"\n",
    "        else:\n",
    "            status_imc = \"Obeso\"\n",
    "        \n",
    "        messagebox.showinfo(\"Resultado\", \"Seu IMC é: {:.2f}\\nVocê está {}.\".format(imc, status_imc))\n",
    "    except ValueError:\n",
    "        messagebox.showerror(\"Erro\", \"Por favor, insira valores numéricos válidos.\")\n",
    "\n",
    "# Configuração da janela principal\n",
    "root = tk.Tk()\n",
    "root.title(\"Calculadora de IMC\")\n",
    "root.geometry(\"280x100\")\n",
    "\n",
    "# Criando os widgets\n",
    "label_peso = tk.Label(root, text=\"Peso (kg):\")\n",
    "label_altura = tk.Label(root, text=\"Altura (m):\")\n",
    "entry_peso = tk.Entry(root)\n",
    "entry_altura = tk.Entry(root)\n",
    "button_calcular = tk.Button(root, text=\"Calcular IMC\", command=calcular_imc)\n",
    "\n",
    "# Posicionamento dos widgets na grade\n",
    "label_peso.grid(row=0, column=0, padx=10, pady=5, sticky=tk.E)\n",
    "entry_peso.grid(row=0, column=1, padx=10, pady=5)\n",
    "label_altura.grid(row=1, column=0, padx=10, pady=5, sticky=tk.E)\n",
    "entry_altura.grid(row=1, column=1, padx=10, pady=5)\n",
    "button_calcular.grid(row=2, columnspan=2, padx=10, pady=10)\n",
    "\n",
    "# Iniciar o loop principal da interface gráfica\n",
    "root.mainloop()\n"
   ]
  },
  {
   "cell_type": "code",
   "execution_count": null,
   "id": "8a3625ea-8dc8-4e07-a5f6-e2ce216ff69f",
   "metadata": {},
   "outputs": [],
   "source": []
  }
 ],
 "metadata": {
  "kernelspec": {
   "display_name": "Python 3 (ipykernel)",
   "language": "python",
   "name": "python3"
  },
  "language_info": {
   "codemirror_mode": {
    "name": "ipython",
    "version": 3
   },
   "file_extension": ".py",
   "mimetype": "text/x-python",
   "name": "python",
   "nbconvert_exporter": "python",
   "pygments_lexer": "ipython3",
   "version": "3.11.7"
  }
 },
 "nbformat": 4,
 "nbformat_minor": 5
}
